{
 "cells": [
  {
   "cell_type": "markdown",
   "metadata": {},
   "source": [
    "# Week 1 - Introduction\n",
    "\n",
    "A quick introduction to git and python.\n",
    "\n",
    "Please run through this tutorial on [how git](https://try.github.io/) functions. Further reading on git [exists here](http://swcarpentry.github.io/git-novice/).\n",
    "\n",
    "For an introduction to python programming, please follow the tutorials [here](http://swcarpentry.github.io/python-novice-inflammation/) and [here](https://swcarpentry.github.io/python-novice-gapminder/).\n",
    "\n",
    "We will cover certain aspects of python programming and specific packages throughout the course. However, at the end of these tutorials, you should be comfortable with the exercises below."
   ]
  },
  {
   "cell_type": "code",
   "execution_count": 22,
   "metadata": {},
   "outputs": [],
   "source": [
    "import numpy as np\n",
    "from sklearn import datasets\n",
    "import matplotlib.pyplot as plt"
   ]
  },
  {
   "cell_type": "markdown",
   "metadata": {},
   "source": [
    "#### (1) Write a function that stores the first 1000 numbers of the Fibonacci sequence in a numpy array.\n",
    "\n",
    "Then write two assertions as tests of your function."
   ]
  },
  {
   "cell_type": "code",
   "execution_count": null,
   "metadata": {},
   "outputs": [],
   "source": [
    "# Answer"
   ]
  },
  {
   "cell_type": "markdown",
   "metadata": {},
   "source": [
    "#### (2) Plot the data that is imported below, labeling the X and Y axes."
   ]
  },
  {
   "cell_type": "code",
   "execution_count": 21,
   "metadata": {},
   "outputs": [],
   "source": [
    "ca_housing = datasets.fetch_california_housing()\n",
    "\n",
    "y = ca_housing.target\n",
    "x = ca_housing.data[:, 0]\n",
    "ylabel = \"Home Prices\"\n",
    "xlabel = \"Median Income\"\n",
    "\n",
    "# Answer"
   ]
  },
  {
   "cell_type": "markdown",
   "metadata": {},
   "source": [
    "#### (3) Write a function that satisfies the assertions below."
   ]
  },
  {
   "cell_type": "code",
   "execution_count": null,
   "metadata": {},
   "outputs": [],
   "source": [
    "# Function here\n",
    "\n",
    "assert(func(0, 20) == 0)\n",
    "assert(func(1, 10) == 10)\n",
    "assert(func(2, 5) == 10)\n",
    "assert(func(3, 2) == 6)\n",
    "assert(func(4, 1) == 4)"
   ]
  },
  {
   "cell_type": "markdown",
   "metadata": {},
   "source": [
    "#### (4) Briefly describe one skill and/or ability you would like to take away from this class."
   ]
  },
  {
   "cell_type": "markdown",
   "metadata": {},
   "source": []
  },
  {
   "cell_type": "markdown",
   "metadata": {},
   "source": [
    "#### (5) Describe your previous experience with programming, statistics, and modeling, including courses and which languages you've used. There is no wrong answer here—this will help us better tailor the class."
   ]
  },
  {
   "cell_type": "markdown",
   "metadata": {},
   "source": []
  },
  {
   "cell_type": "markdown",
   "metadata": {},
   "source": [
    "#### (6) Commit these files to git with a descriptive message."
   ]
  }
 ],
 "metadata": {
  "kernel_info": {
   "name": "python3"
  },
  "kernelspec": {
   "display_name": "Python 3",
   "language": "python",
   "name": "python3"
  },
  "language_info": {
   "codemirror_mode": {
    "name": "ipython",
    "version": 3
   },
   "file_extension": ".py",
   "mimetype": "text/x-python",
   "name": "python",
   "nbconvert_exporter": "python",
   "pygments_lexer": "ipython3",
   "version": "3.10.7 (main, Nov 24 2022, 19:45:47) [GCC 12.2.0]"
  },
  "nteract": {
   "version": "0.3.4"
  },
  "vscode": {
   "interpreter": {
    "hash": "e7370f93d1d0cde622a1f8e1c04877d8463912d04d973331ad4851f04de6915a"
   }
  }
 },
 "nbformat": 4,
 "nbformat_minor": 2
}
